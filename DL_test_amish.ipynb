{
 "cells": [
  {
   "cell_type": "markdown",
   "id": "be0b9884",
   "metadata": {},
   "source": [
    "### Importing libraries"
   ]
  },
  {
   "cell_type": "code",
   "execution_count": 1,
   "id": "5ec01317",
   "metadata": {},
   "outputs": [],
   "source": [
    "import numpy as np\n",
    "import pandas as pd\n",
    "import tensorflow as tf\n",
    "from keras.preprocessing.image import ImageDataGenerator \n",
    "from tensorflow.keras.models import Sequential,load_model\n",
    "from tensorflow.keras.layers import Dense,Dropout,Activation,Conv2D,MaxPooling2D,Flatten"
   ]
  },
  {
   "cell_type": "code",
   "execution_count": 2,
   "id": "3eaf9d1f",
   "metadata": {},
   "outputs": [],
   "source": [
    "import warnings\n",
    "warnings.filterwarnings('ignore')"
   ]
  },
  {
   "cell_type": "markdown",
   "id": "e96f07e1",
   "metadata": {},
   "source": [
    "### Data Preprecessing"
   ]
  },
  {
   "cell_type": "code",
   "execution_count": 3,
   "id": "bf78b62e",
   "metadata": {},
   "outputs": [],
   "source": [
    "train_datagen=ImageDataGenerator(rescale=1./255,\n",
    "                                shear_range= 0.2,\n",
    "                                zoom_range=0.2,\n",
    "                                horizontal_flip=True)"
   ]
  },
  {
   "cell_type": "code",
   "execution_count": 4,
   "id": "9b03478a",
   "metadata": {},
   "outputs": [
    {
     "name": "stdout",
     "output_type": "stream",
     "text": [
      "Found 2848 images belonging to 2 classes.\n"
     ]
    }
   ],
   "source": [
    "training_set=train_datagen.flow_from_directory(\"dataset_b/traning_set\",\n",
    "                                              target_size=(64,64),\n",
    "                                              batch_size=32,\n",
    "                                              class_mode='binary')"
   ]
  },
  {
   "cell_type": "code",
   "execution_count": 5,
   "id": "0bd7c553",
   "metadata": {},
   "outputs": [],
   "source": [
    "test_datagen=ImageDataGenerator(rescale=1./255)"
   ]
  },
  {
   "cell_type": "code",
   "execution_count": 6,
   "id": "d3e7ed3e",
   "metadata": {},
   "outputs": [
    {
     "name": "stdout",
     "output_type": "stream",
     "text": [
      "Found 228 images belonging to 2 classes.\n"
     ]
    }
   ],
   "source": [
    "test_set=test_datagen.flow_from_directory(\"dataset_b/testing_set\",\n",
    "                                              target_size=(64,64),\n",
    "                                              batch_size=32,\n",
    "                                              class_mode='binary')"
   ]
  },
  {
   "cell_type": "markdown",
   "id": "3f216366",
   "metadata": {},
   "source": [
    "###  Adding layers"
   ]
  },
  {
   "cell_type": "code",
   "execution_count": 7,
   "id": "cf91173a",
   "metadata": {},
   "outputs": [],
   "source": [
    "from keras import regularizers\n",
    "regv = 0.0001"
   ]
  },
  {
   "cell_type": "code",
   "execution_count": 8,
   "id": "306b1354",
   "metadata": {},
   "outputs": [],
   "source": [
    "cnn=tf.keras.models.Sequential()"
   ]
  },
  {
   "cell_type": "code",
   "execution_count": 9,
   "id": "404e803c",
   "metadata": {},
   "outputs": [],
   "source": [
    "cnn.add(tf.keras.layers.Conv2D(filters=32,kernel_size=3,activation='relu',input_shape=[64,64,3],kernel_regularizer=regularizers.l2(regv)))"
   ]
  },
  {
   "cell_type": "code",
   "execution_count": 10,
   "id": "ed1c2e6c",
   "metadata": {},
   "outputs": [],
   "source": [
    "cnn.add(tf.keras.layers.MaxPool2D(pool_size=2,strides=2))"
   ]
  },
  {
   "cell_type": "code",
   "execution_count": 11,
   "id": "fedea02b",
   "metadata": {},
   "outputs": [],
   "source": [
    "cnn.add(tf.keras.layers.Conv2D(filters=32,kernel_size=3,activation='relu',kernel_regularizer=regularizers.l2(regv)))"
   ]
  },
  {
   "cell_type": "code",
   "execution_count": 12,
   "id": "a41dd1e7",
   "metadata": {},
   "outputs": [],
   "source": [
    "cnn.add(tf.keras.layers.Conv2D(filters=32,kernel_size=3,activation='relu',kernel_regularizer=regularizers.l2(regv)))"
   ]
  },
  {
   "cell_type": "code",
   "execution_count": 13,
   "id": "468da7ed",
   "metadata": {},
   "outputs": [],
   "source": [
    "cnn.add(tf.keras.layers.MaxPool2D(pool_size=2,strides=2))"
   ]
  },
  {
   "cell_type": "code",
   "execution_count": 14,
   "id": "93543e9d",
   "metadata": {},
   "outputs": [],
   "source": [
    "cnn.add(tf.keras.layers.Flatten())"
   ]
  },
  {
   "cell_type": "code",
   "execution_count": 15,
   "id": "391ea10a",
   "metadata": {},
   "outputs": [],
   "source": [
    "cnn.add(tf.keras.layers.Dense(units=128,activation='relu',kernel_regularizer=regularizers.l2(regv)))"
   ]
  },
  {
   "cell_type": "code",
   "execution_count": 16,
   "id": "f5eae96d",
   "metadata": {},
   "outputs": [],
   "source": [
    "cnn.add(tf.keras.layers.Dense(units=1,activation='sigmoid',kernel_regularizer=regularizers.l2(regv)))"
   ]
  },
  {
   "cell_type": "code",
   "execution_count": 17,
   "id": "32bf2e8f",
   "metadata": {},
   "outputs": [],
   "source": [
    "cnn.compile(optimizer='sgd',loss='binary_crossentropy',metrics=['accuracy'])"
   ]
  },
  {
   "cell_type": "code",
   "execution_count": 18,
   "id": "e50b08db",
   "metadata": {},
   "outputs": [
    {
     "name": "stdout",
     "output_type": "stream",
     "text": [
      "Epoch 1/5\n",
      "89/89 [==============================] - 75s 825ms/step - loss: 0.7083 - accuracy: 0.5741 - val_loss: 0.6980 - val_accuracy: 0.6667\n",
      "Epoch 2/5\n",
      "89/89 [==============================] - 28s 314ms/step - loss: 0.6686 - accuracy: 0.6404 - val_loss: 0.6547 - val_accuracy: 0.7018\n",
      "Epoch 3/5\n",
      "89/89 [==============================] - 29s 323ms/step - loss: 0.6433 - accuracy: 0.6643 - val_loss: 0.6408 - val_accuracy: 0.7149\n",
      "Epoch 4/5\n",
      "89/89 [==============================] - 35s 392ms/step - loss: 0.6328 - accuracy: 0.6713 - val_loss: 0.6353 - val_accuracy: 0.6842\n",
      "Epoch 5/5\n",
      "89/89 [==============================] - 38s 430ms/step - loss: 0.6016 - accuracy: 0.6963 - val_loss: 0.6173 - val_accuracy: 0.7237\n"
     ]
    }
   ],
   "source": [
    "trained=cnn.fit(x=training_set,validation_data=test_set,epochs=5)"
   ]
  },
  {
   "cell_type": "code",
   "execution_count": 34,
   "id": "0bdadd8f",
   "metadata": {},
   "outputs": [
    {
     "data": {
      "image/png": "[encoded data removed]",
      "text/plain": [
       "<Figure size 640x480 with 2 Axes>"
      ]
     },
     "metadata": {},
     "output_type": "display_data"
    }
   ],
   "source": [
    "import matplotlib.pyplot as plt\n",
    "%matplotlib inline\n",
    "\n",
    "fig=plt.figure()\n",
    "plt.subplot(2,1,1)\n",
    "plt.plot(trained.history['accuracy'])\n",
    "plt.plot(trained.history['val_accuracy'])\n",
    "plt.title('model accuracy')\n",
    "plt.ylabel('accuracy')\n",
    "plt.xlabel('epoch')\n",
    "plt.legend(['train','test'],loc='lower right')\n",
    "\n",
    "plt.subplot(2,1,2)\n",
    "plt.plot(trained.history['loss'])\n",
    "plt.plot(trained.history['val_loss'])\n",
    "plt.title('model loss')\n",
    "plt.ylabel('loss')\n",
    "plt.xlabel('epoch')\n",
    "plt.legend(['train','test'],loc='upper right')\n",
    "\n",
    "plt.tight_layout()"
   ]
  },
  {
   "cell_type": "markdown",
   "id": "3f34a822",
   "metadata": {},
   "source": [
    "### Predictions"
   ]
  },
  {
   "cell_type": "code",
   "execution_count": 21,
   "id": "bdd46cf2",
   "metadata": {},
   "outputs": [],
   "source": [
    "from keras.preprocessing import image\n",
    "from keras.utils import load_img\n",
    "from keras.utils import img_to_array"
   ]
  },
  {
   "cell_type": "code",
   "execution_count": 23,
   "id": "9743f567",
   "metadata": {},
   "outputs": [
    {
     "name": "stdout",
     "output_type": "stream",
     "text": [
      "1/1 [==============================] - 0s 188ms/step\n",
      "[[0.]]\n"
     ]
    },
    {
     "data": {
      "text/plain": [
       "{'fire': 0, 'non_fire': 1}"
      ]
     },
     "execution_count": 23,
     "metadata": {},
     "output_type": "execute_result"
    }
   ],
   "source": [
    "test_image=load_img('fire.jpg',target_size=(64,64))\n",
    "test_image=img_to_array(test_image)\n",
    "test_image=np.expand_dims(test_image,axis=0)\n",
    "result=cnn.predict(test_image)\n",
    "print(result)\n",
    "training_set.class_indices\n"
   ]
  },
  {
   "cell_type": "code",
   "execution_count": 24,
   "id": "39fb1b27",
   "metadata": {},
   "outputs": [],
   "source": [
    "if result < 0.5:\n",
    "    prediction='fire'\n",
    "else:\n",
    "    prediction='non fire'"
   ]
  },
  {
   "cell_type": "code",
   "execution_count": 25,
   "id": "9b909552",
   "metadata": {},
   "outputs": [
    {
     "name": "stdout",
     "output_type": "stream",
     "text": [
      "fire\n"
     ]
    }
   ],
   "source": [
    "print(prediction)"
   ]
  },
  {
   "cell_type": "code",
   "execution_count": 26,
   "id": "14731606",
   "metadata": {},
   "outputs": [
    {
     "name": "stdout",
     "output_type": "stream",
     "text": [
      "1/1 [==============================] - 0s 135ms/step\n",
      "[[1.]]\n"
     ]
    },
    {
     "data": {
      "text/plain": [
       "{'fire': 0, 'non_fire': 1}"
      ]
     },
     "execution_count": 26,
     "metadata": {},
     "output_type": "execute_result"
    }
   ],
   "source": [
    "test_image=load_img('non fire.jpg',target_size=(64,64))\n",
    "test_image=img_to_array(test_image)\n",
    "test_image=np.expand_dims(test_image,axis=0)\n",
    "result=cnn.predict(test_image)\n",
    "print(result)\n",
    "training_set.class_indices"
   ]
  },
  {
   "cell_type": "code",
   "execution_count": 31,
   "id": "53c1e735",
   "metadata": {},
   "outputs": [],
   "source": [
    "if result < 0.5:\n",
    "    prediction='fire'\n",
    "else:\n",
    "    prediction='non fire'"
   ]
  },
  {
   "cell_type": "code",
   "execution_count": 32,
   "id": "71738dee",
   "metadata": {},
   "outputs": [
    {
     "name": "stdout",
     "output_type": "stream",
     "text": [
      "non fire\n"
     ]
    }
   ],
   "source": [
    "print(prediction)"
   ]
  },
  {
   "cell_type": "code",
   "execution_count": null,
   "id": "cee28cd4",
   "metadata": {},
   "outputs": [],
   "source": []
  }
 ],
 "metadata": {
  "kernelspec": {
   "display_name": "Python 3 (ipykernel)",
   "language": "python",
   "name": "python3"
  },
  "language_info": {
   "codemirror_mode": {
    "name": "ipython",
    "version": 3
   },
   "file_extension": ".py",
   "mimetype": "text/x-python",
   "name": "python",
   "nbconvert_exporter": "python",
   "pygments_lexer": "ipython3",
   "version": "3.11.0"
  }
 },
 "nbformat": 4,
 "nbformat_minor": 5
}
